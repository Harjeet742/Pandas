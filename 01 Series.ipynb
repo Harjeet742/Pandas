{
 "cells": [
  {
   "cell_type": "markdown",
   "id": "f3f3b344-59ae-4cf9-a82f-6ed00ec72807",
   "metadata": {},
   "source": [
    "# * PANDAS *"
   ]
  },
  {
   "cell_type": "markdown",
   "id": "4c0f2c8b-01a2-4515-b7fc-48c3a6a09ac1",
   "metadata": {},
   "source": [
    "## Library to work with table data"
   ]
  },
  {
   "cell_type": "code",
   "execution_count": 1,
   "id": "31bae341-067c-4b0e-9cc7-034cdfcc2a7d",
   "metadata": {},
   "outputs": [],
   "source": [
    "import numpy as np\n",
    "import pandas as pd"
   ]
  },
  {
   "cell_type": "code",
   "execution_count": 5,
   "id": "b1364454-5ded-4164-b93e-7a0818ace297",
   "metadata": {},
   "outputs": [],
   "source": [
    "li = ['sahil', 'ujjwal', 'happy']"
   ]
  },
  {
   "cell_type": "code",
   "execution_count": 11,
   "id": "44e261a1-404c-4360-bd2d-9af2f890ebfb",
   "metadata": {},
   "outputs": [],
   "source": [
    "a = pd.Series(li)"
   ]
  },
  {
   "cell_type": "code",
   "execution_count": 12,
   "id": "802f8bed-093f-4282-be3b-bc2e08686e90",
   "metadata": {},
   "outputs": [
    {
     "data": {
      "text/plain": [
       "0     sahil\n",
       "1    ujjwal\n",
       "2     happy\n",
       "dtype: object"
      ]
     },
     "execution_count": 12,
     "metadata": {},
     "output_type": "execute_result"
    }
   ],
   "source": [
    "a"
   ]
  },
  {
   "cell_type": "code",
   "execution_count": 56,
   "id": "b871b79a-0536-4f52-a69a-a245636a4467",
   "metadata": {},
   "outputs": [],
   "source": [
    "b = pd.Series(li, index=['A','B','C'], name='name')"
   ]
  },
  {
   "cell_type": "code",
   "execution_count": 57,
   "id": "b870385c-3ffe-45f1-9ef3-b83fe546c9c6",
   "metadata": {},
   "outputs": [
    {
     "data": {
      "text/plain": [
       "A     sahil\n",
       "B    ujjwal\n",
       "C     happy\n",
       "Name: name, dtype: object"
      ]
     },
     "execution_count": 57,
     "metadata": {},
     "output_type": "execute_result"
    }
   ],
   "source": [
    "b"
   ]
  },
  {
   "cell_type": "code",
   "execution_count": 60,
   "id": "4b7f7673-c9d5-4f80-9a09-12dbefb4cad1",
   "metadata": {},
   "outputs": [],
   "source": [
    "c = pd.Series(['Maths','Science','English'], index = ['A', 'B', 'C'])"
   ]
  },
  {
   "cell_type": "code",
   "execution_count": 61,
   "id": "60b9727f-4132-49a4-96dd-f5f4857810a6",
   "metadata": {},
   "outputs": [
    {
     "data": {
      "text/plain": [
       "A      Maths\n",
       "B    Science\n",
       "C    English\n",
       "dtype: object"
      ]
     },
     "execution_count": 61,
     "metadata": {},
     "output_type": "execute_result"
    }
   ],
   "source": [
    "c"
   ]
  },
  {
   "cell_type": "code",
   "execution_count": 62,
   "id": "962b0a5f-646b-4758-8e4d-557b8c28e0e3",
   "metadata": {},
   "outputs": [
    {
     "data": {
      "text/plain": [
       "'Maths'"
      ]
     },
     "execution_count": 62,
     "metadata": {},
     "output_type": "execute_result"
    }
   ],
   "source": [
    "c['A']"
   ]
  },
  {
   "cell_type": "code",
   "execution_count": 63,
   "id": "65d1c50f-24c0-46f3-81cc-9ad8dc9fdfe2",
   "metadata": {},
   "outputs": [
    {
     "data": {
      "text/plain": [
       "'Science'"
      ]
     },
     "execution_count": 63,
     "metadata": {},
     "output_type": "execute_result"
    }
   ],
   "source": [
    "c['B']"
   ]
  },
  {
   "cell_type": "code",
   "execution_count": 68,
   "id": "d59c8ba0-6ffc-4d1a-a352-7d3cadae3982",
   "metadata": {},
   "outputs": [],
   "source": [
    "c = pd.Series(['Maths','Science','English'], index = 'A B C'.split(), name = \"subjects\")"
   ]
  },
  {
   "cell_type": "code",
   "execution_count": 69,
   "id": "5cbc17bc-11d5-4294-90eb-aa9a15c80286",
   "metadata": {},
   "outputs": [
    {
     "data": {
      "text/plain": [
       "'Maths'"
      ]
     },
     "execution_count": 69,
     "metadata": {},
     "output_type": "execute_result"
    }
   ],
   "source": [
    "c['A']"
   ]
  },
  {
   "cell_type": "code",
   "execution_count": 70,
   "id": "838b84f1-fb63-40d6-8d26-21665dd1bd9e",
   "metadata": {},
   "outputs": [
    {
     "data": {
      "text/plain": [
       "A      Maths\n",
       "B    Science\n",
       "C    English\n",
       "Name: subjects, dtype: object"
      ]
     },
     "execution_count": 70,
     "metadata": {},
     "output_type": "execute_result"
    }
   ],
   "source": [
    "c"
   ]
  },
  {
   "cell_type": "code",
   "execution_count": 95,
   "id": "2f2ca847-d726-4cfd-ae79-a3b446561441",
   "metadata": {},
   "outputs": [],
   "source": [
    "x = ['sahil', 'akrash', 'shubham', 'rajat']"
   ]
  },
  {
   "cell_type": "code",
   "execution_count": 96,
   "id": "7a0cd45d-3759-4295-a475-6b1e07bac6ed",
   "metadata": {},
   "outputs": [],
   "source": [
    "a = pd.Series(x)"
   ]
  },
  {
   "cell_type": "code",
   "execution_count": 97,
   "id": "d7d5bcd4-318b-40f9-98f6-e68e81e65df9",
   "metadata": {},
   "outputs": [
    {
     "data": {
      "text/plain": [
       "0      sahil\n",
       "1     akrash\n",
       "2    shubham\n",
       "3      rajat\n",
       "dtype: object"
      ]
     },
     "execution_count": 97,
     "metadata": {},
     "output_type": "execute_result"
    }
   ],
   "source": [
    "a"
   ]
  },
  {
   "cell_type": "code",
   "execution_count": 100,
   "id": "9541c16d-af5e-4e6d-bd62-cec8e161bdea",
   "metadata": {},
   "outputs": [],
   "source": [
    "b = pd.Series(x, index = ['A', 'B', 'C', 'D'], name = 'names')"
   ]
  },
  {
   "cell_type": "code",
   "execution_count": 101,
   "id": "9a90d603-1b98-45fc-9304-4a5e3b7e1cbc",
   "metadata": {},
   "outputs": [
    {
     "data": {
      "text/plain": [
       "A      sahil\n",
       "B     akrash\n",
       "C    shubham\n",
       "D      rajat\n",
       "Name: names, dtype: object"
      ]
     },
     "execution_count": 101,
     "metadata": {},
     "output_type": "execute_result"
    }
   ],
   "source": [
    "b"
   ]
  },
  {
   "cell_type": "code",
   "execution_count": 106,
   "id": "7aa55332-6511-4224-91b3-af04c95da644",
   "metadata": {},
   "outputs": [],
   "source": [
    "c = pd.Series(['GK', 'Computer', 'Maths'], index = ['A', 'B', 'C'], name = 'subjects')"
   ]
  },
  {
   "cell_type": "code",
   "execution_count": 107,
   "id": "f078533b-d1f2-41fc-9626-0c44a15987bc",
   "metadata": {},
   "outputs": [
    {
     "data": {
      "text/plain": [
       "A          GK\n",
       "B    Computer\n",
       "C       Maths\n",
       "Name: subjects, dtype: object"
      ]
     },
     "execution_count": 107,
     "metadata": {},
     "output_type": "execute_result"
    }
   ],
   "source": [
    "c"
   ]
  },
  {
   "cell_type": "code",
   "execution_count": 108,
   "id": "fde0d244-49b2-4c90-a483-fc16ba0be4f0",
   "metadata": {},
   "outputs": [
    {
     "data": {
      "text/plain": [
       "'GK'"
      ]
     },
     "execution_count": 108,
     "metadata": {},
     "output_type": "execute_result"
    }
   ],
   "source": [
    "c['A']"
   ]
  },
  {
   "cell_type": "code",
   "execution_count": 109,
   "id": "0dc060f5-8280-4243-9809-1eac1ab74221",
   "metadata": {},
   "outputs": [
    {
     "data": {
      "text/plain": [
       "'Computer'"
      ]
     },
     "execution_count": 109,
     "metadata": {},
     "output_type": "execute_result"
    }
   ],
   "source": [
    "c['B']"
   ]
  },
  {
   "cell_type": "code",
   "execution_count": 110,
   "id": "0d9ab312-6a19-4762-8397-b2fb43dcd118",
   "metadata": {},
   "outputs": [
    {
     "data": {
      "text/plain": [
       "3"
      ]
     },
     "execution_count": 110,
     "metadata": {},
     "output_type": "execute_result"
    }
   ],
   "source": [
    "len(c)"
   ]
  },
  {
   "cell_type": "code",
   "execution_count": 111,
   "id": "a571758e-641f-4be8-a807-04314a198735",
   "metadata": {},
   "outputs": [
    {
     "data": {
      "text/plain": [
       "1"
      ]
     },
     "execution_count": 111,
     "metadata": {},
     "output_type": "execute_result"
    }
   ],
   "source": [
    "len('B')"
   ]
  },
  {
   "cell_type": "code",
   "execution_count": 113,
   "id": "394ee4e4-2688-4266-9222-ff394d264227",
   "metadata": {},
   "outputs": [
    {
     "data": {
      "text/plain": [
       "np.int64(3)"
      ]
     },
     "execution_count": 113,
     "metadata": {},
     "output_type": "execute_result"
    }
   ],
   "source": [
    "c.count()"
   ]
  },
  {
   "cell_type": "code",
   "execution_count": 118,
   "id": "b5e99896-e614-48e9-aba7-f7094e45568d",
   "metadata": {},
   "outputs": [
    {
     "data": {
      "text/plain": [
       "(3,)"
      ]
     },
     "execution_count": 118,
     "metadata": {},
     "output_type": "execute_result"
    }
   ],
   "source": [
    "c.shape"
   ]
  },
  {
   "cell_type": "code",
   "execution_count": 120,
   "id": "b554d920-4186-4668-9a51-7a5d867bde12",
   "metadata": {},
   "outputs": [
    {
     "data": {
      "text/plain": [
       "3"
      ]
     },
     "execution_count": 120,
     "metadata": {},
     "output_type": "execute_result"
    }
   ],
   "source": [
    "c.size"
   ]
  },
  {
   "cell_type": "code",
   "execution_count": 152,
   "id": "6705c673-b2ec-484d-bb61-21ce4e250ac0",
   "metadata": {},
   "outputs": [],
   "source": [
    "d = pd.Series(['round_up', 'sulphur', 'cholorophyl', 'zinc_sulphate'], index = ['A', 'B', 'C', 'D'], name= 'Pesticides')"
   ]
  },
  {
   "cell_type": "code",
   "execution_count": 153,
   "id": "b3d32cfd-feda-447d-bbef-d776d69168cd",
   "metadata": {},
   "outputs": [
    {
     "data": {
      "text/plain": [
       "A         round_up\n",
       "B          sulphur\n",
       "C      cholorophyl\n",
       "D    zinc_sulphate\n",
       "Name: Pesticides, dtype: object"
      ]
     },
     "execution_count": 153,
     "metadata": {},
     "output_type": "execute_result"
    }
   ],
   "source": [
    "d"
   ]
  },
  {
   "cell_type": "code",
   "execution_count": 154,
   "id": "fa9f8013-459c-4ab7-9b30-2cd7e9c5b20e",
   "metadata": {},
   "outputs": [
    {
     "data": {
      "text/plain": [
       "4"
      ]
     },
     "execution_count": 154,
     "metadata": {},
     "output_type": "execute_result"
    }
   ],
   "source": [
    "len(d)"
   ]
  },
  {
   "cell_type": "code",
   "execution_count": 156,
   "id": "2856c408-f2da-48c6-9b1b-8cf195e10fc6",
   "metadata": {},
   "outputs": [
    {
     "data": {
      "text/plain": [
       "np.int64(4)"
      ]
     },
     "execution_count": 156,
     "metadata": {},
     "output_type": "execute_result"
    }
   ],
   "source": [
    "d.count()"
   ]
  },
  {
   "cell_type": "code",
   "execution_count": 157,
   "id": "2ceb3436-9710-488f-a359-550baf432580",
   "metadata": {},
   "outputs": [
    {
     "data": {
      "text/plain": [
       "4"
      ]
     },
     "execution_count": 157,
     "metadata": {},
     "output_type": "execute_result"
    }
   ],
   "source": [
    "d.size"
   ]
  },
  {
   "cell_type": "code",
   "execution_count": 159,
   "id": "85db4b05-cb25-443a-962c-a97765887aa8",
   "metadata": {},
   "outputs": [
    {
     "data": {
      "text/plain": [
       "'zinc_sulphate'"
      ]
     },
     "execution_count": 159,
     "metadata": {},
     "output_type": "execute_result"
    }
   ],
   "source": [
    "d.max()"
   ]
  },
  {
   "cell_type": "code",
   "execution_count": 160,
   "id": "748c2ed6-1550-40e6-afab-63683de9565c",
   "metadata": {},
   "outputs": [
    {
     "data": {
      "text/plain": [
       "13"
      ]
     },
     "execution_count": 160,
     "metadata": {},
     "output_type": "execute_result"
    }
   ],
   "source": [
    "len('zinc_sulphate')"
   ]
  },
  {
   "cell_type": "code",
   "execution_count": 162,
   "id": "834e7fec-c0d8-4eb7-8040-939c6dff564f",
   "metadata": {},
   "outputs": [
    {
     "name": "stderr",
     "output_type": "stream",
     "text": [
      "C:\\Users\\DEll\\AppData\\Local\\Temp\\ipykernel_12580\\458334385.py:1: FutureWarning: Series.__getitem__ treating keys as positions is deprecated. In a future version, integer keys will always be treated as labels (consistent with DataFrame behavior). To access a value by position, use `ser.iloc[pos]`\n",
      "  len(d[2])\n"
     ]
    },
    {
     "data": {
      "text/plain": [
       "11"
      ]
     },
     "execution_count": 162,
     "metadata": {},
     "output_type": "execute_result"
    }
   ],
   "source": [
    "len(d[2])"
   ]
  },
  {
   "cell_type": "markdown",
   "id": "959580b0-e6a2-47be-9dd6-93dde3ea193c",
   "metadata": {},
   "source": [
    "## Series with dictionary"
   ]
  },
  {
   "cell_type": "code",
   "execution_count": 163,
   "id": "20c475ad-4880-4382-85a1-7ba18e6aa34e",
   "metadata": {},
   "outputs": [],
   "source": [
    "d = {'city':['Delhi', 'Chd', 'Agra']}"
   ]
  },
  {
   "cell_type": "code",
   "execution_count": 164,
   "id": "5a1dd92d-24b7-459c-8b86-a476311b1c51",
   "metadata": {},
   "outputs": [
    {
     "data": {
      "text/plain": [
       "0    Delhi\n",
       "1      Chd\n",
       "2     Agra\n",
       "Name: city, dtype: object"
      ]
     },
     "execution_count": 164,
     "metadata": {},
     "output_type": "execute_result"
    }
   ],
   "source": [
    "pd.Series(d['city'], name= 'city')"
   ]
  },
  {
   "cell_type": "code",
   "execution_count": 172,
   "id": "e439a32f-1dac-4af3-9c7c-2e27f5442012",
   "metadata": {},
   "outputs": [],
   "source": [
    "d1 = {'Profession':['Plumber', 'Tailor', 'Technician', 'Driver', 'Mechanic', 'Singer']}"
   ]
  },
  {
   "cell_type": "code",
   "execution_count": 182,
   "id": "aaf91668-5f99-4aa5-9519-12aa537593d7",
   "metadata": {},
   "outputs": [
    {
     "data": {
      "text/plain": [
       "A       Plumber\n",
       "B        Tailor\n",
       "C    Technician\n",
       "D        Driver\n",
       "E      Mechanic\n",
       "F        Singer\n",
       "Name: works, dtype: object"
      ]
     },
     "execution_count": 182,
     "metadata": {},
     "output_type": "execute_result"
    }
   ],
   "source": [
    "pd.Series(d1['Profession'],index = ['A', 'B', 'C', 'D', 'E', 'F'], name = 'works')"
   ]
  },
  {
   "cell_type": "code",
   "execution_count": 206,
   "id": "5c385deb-c7cd-4cdf-9942-0eb0e28df977",
   "metadata": {},
   "outputs": [
    {
     "data": {
      "text/plain": [
       "10"
      ]
     },
     "execution_count": 206,
     "metadata": {},
     "output_type": "execute_result"
    }
   ],
   "source": [
    "len('Profession')"
   ]
  },
  {
   "cell_type": "code",
   "execution_count": 202,
   "id": "0993262f-0667-43a1-9459-f82a57215e0a",
   "metadata": {},
   "outputs": [
    {
     "data": {
      "text/plain": [
       "1"
      ]
     },
     "execution_count": 202,
     "metadata": {},
     "output_type": "execute_result"
    }
   ],
   "source": [
    "len(d1)"
   ]
  },
  {
   "cell_type": "code",
   "execution_count": 203,
   "id": "91da88c4-fba9-42b4-92d4-e55200afe096",
   "metadata": {},
   "outputs": [],
   "source": [
    "d2 = {'Skills':['Data_Scientist', 'Web_Developer', 'Software_developer', 'Ethical_Hacker', 'Data_Administrator']}"
   ]
  },
  {
   "cell_type": "code",
   "execution_count": 204,
   "id": "ebe8f894-8ef4-46d3-8911-036c2599deaf",
   "metadata": {},
   "outputs": [
    {
     "data": {
      "text/plain": [
       "A        Data_Scientist\n",
       "B         Web_Developer\n",
       "C    Software_developer\n",
       "D        Ethical_Hacker\n",
       "E    Data_Administrator\n",
       "Name: Courses, dtype: object"
      ]
     },
     "execution_count": 204,
     "metadata": {},
     "output_type": "execute_result"
    }
   ],
   "source": [
    "pd.Series(d2['Skills'], index= ['A', 'B', 'C', 'D', 'E'], name= 'Courses')"
   ]
  },
  {
   "cell_type": "code",
   "execution_count": 205,
   "id": "50f9cd29-461b-44de-9645-e25b60e1be9a",
   "metadata": {},
   "outputs": [
    {
     "data": {
      "text/plain": [
       "1"
      ]
     },
     "execution_count": 205,
     "metadata": {},
     "output_type": "execute_result"
    }
   ],
   "source": [
    "len(d2)"
   ]
  },
  {
   "cell_type": "code",
   "execution_count": 207,
   "id": "56258651-db64-4f72-ab51-39a6059c4072",
   "metadata": {},
   "outputs": [
    {
     "data": {
      "text/plain": [
       "6"
      ]
     },
     "execution_count": 207,
     "metadata": {},
     "output_type": "execute_result"
    }
   ],
   "source": [
    "len('Skills')"
   ]
  },
  {
   "cell_type": "code",
   "execution_count": 220,
   "id": "fbd42789-24af-4b72-9ef7-1c26642ba877",
   "metadata": {},
   "outputs": [],
   "source": [
    "e = pd.Series([50,20,60], index = 'A B C'.split(), name='marks')"
   ]
  },
  {
   "cell_type": "code",
   "execution_count": 221,
   "id": "5c199fe1-f2c8-438a-a163-3b873947a6a8",
   "metadata": {},
   "outputs": [
    {
     "data": {
      "text/plain": [
       "A    50\n",
       "B    20\n",
       "C    60\n",
       "Name: marks, dtype: int64"
      ]
     },
     "execution_count": 221,
     "metadata": {},
     "output_type": "execute_result"
    }
   ],
   "source": [
    "e"
   ]
  },
  {
   "cell_type": "code",
   "execution_count": 222,
   "id": "e34fef80-1f84-4631-bbe8-a3a1182a3d65",
   "metadata": {},
   "outputs": [],
   "source": [
    "e1= pd.Series([200,300,600], index= ['A', 'B', 'C'], name= 'Rates')"
   ]
  },
  {
   "cell_type": "code",
   "execution_count": 223,
   "id": "dc6b8e4c-4e90-4bbb-91e6-2277120131ed",
   "metadata": {},
   "outputs": [
    {
     "data": {
      "text/plain": [
       "A    200\n",
       "B    300\n",
       "C    600\n",
       "Name: Rates, dtype: int64"
      ]
     },
     "execution_count": 223,
     "metadata": {},
     "output_type": "execute_result"
    }
   ],
   "source": [
    "e1"
   ]
  },
  {
   "cell_type": "code",
   "execution_count": 225,
   "id": "42feec6e-bb7c-4b2f-b385-95e001f03082",
   "metadata": {},
   "outputs": [],
   "source": [
    "e1 = pd.Series([200,300,600], index ='A B C'.split(), name= 'Rates')"
   ]
  },
  {
   "cell_type": "code",
   "execution_count": 226,
   "id": "c8015c22-31f9-4bea-b4fa-5925a935b302",
   "metadata": {},
   "outputs": [
    {
     "data": {
      "text/plain": [
       "A    200\n",
       "B    300\n",
       "C    600\n",
       "Name: Rates, dtype: int64"
      ]
     },
     "execution_count": 226,
     "metadata": {},
     "output_type": "execute_result"
    }
   ],
   "source": [
    "e1"
   ]
  },
  {
   "cell_type": "code",
   "execution_count": 35,
   "id": "cdf492ae-8728-40d4-8af6-fb25adbb1b5e",
   "metadata": {},
   "outputs": [],
   "source": [
    "f = pd.Series([5.5, 2.4, 6.9], index=[\"A\", \"B\" , \"C\"], name=\"inputs\")"
   ]
  },
  {
   "cell_type": "code",
   "execution_count": 36,
   "id": "06b83171-f641-421f-91de-21a3827c8bf2",
   "metadata": {},
   "outputs": [
    {
     "data": {
      "text/plain": [
       "A    5.5\n",
       "B    2.4\n",
       "C    6.9\n",
       "Name: inputs, dtype: float64"
      ]
     },
     "execution_count": 36,
     "metadata": {},
     "output_type": "execute_result"
    }
   ],
   "source": [
    "f"
   ]
  },
  {
   "cell_type": "code",
   "execution_count": 228,
   "id": "42c334b9-0653-4711-8f9a-f93fb89f6917",
   "metadata": {},
   "outputs": [],
   "source": [
    "f1= pd.Series([2.0,9.4,83.987,23.8], index= 'A B C D'.split(), name= 'inputs')"
   ]
  },
  {
   "cell_type": "code",
   "execution_count": 229,
   "id": "0dc44161-7f5b-467d-81c8-4a89b272de81",
   "metadata": {},
   "outputs": [
    {
     "data": {
      "text/plain": [
       "A     2.000\n",
       "B     9.400\n",
       "C    83.987\n",
       "D    23.800\n",
       "Name: inputs, dtype: float64"
      ]
     },
     "execution_count": 229,
     "metadata": {},
     "output_type": "execute_result"
    }
   ],
   "source": [
    "f1"
   ]
  },
  {
   "cell_type": "code",
   "execution_count": 230,
   "id": "85a8f931-80e7-41d6-99bd-a2b9f7f84e6a",
   "metadata": {},
   "outputs": [],
   "source": [
    "g = pd.Series([True, False], index=[\"A\", \"B\" ], name=\"types\")"
   ]
  },
  {
   "cell_type": "code",
   "execution_count": 231,
   "id": "a524c46f-705e-40e5-b299-e0ae8575188b",
   "metadata": {},
   "outputs": [
    {
     "data": {
      "text/plain": [
       "A     True\n",
       "B    False\n",
       "Name: types, dtype: bool"
      ]
     },
     "execution_count": 231,
     "metadata": {},
     "output_type": "execute_result"
    }
   ],
   "source": [
    "g"
   ]
  },
  {
   "cell_type": "code",
   "execution_count": 236,
   "id": "8fcd84d2-5c49-4736-b96d-e8f809d78643",
   "metadata": {},
   "outputs": [],
   "source": [
    "g1 = pd.Series([True, False], index = 'A B'.split(), name = 'types')"
   ]
  },
  {
   "cell_type": "code",
   "execution_count": 237,
   "id": "80374428-a611-42ec-acc5-67e825c7d977",
   "metadata": {},
   "outputs": [
    {
     "data": {
      "text/plain": [
       "A     True\n",
       "B    False\n",
       "Name: types, dtype: bool"
      ]
     },
     "execution_count": 237,
     "metadata": {},
     "output_type": "execute_result"
    }
   ],
   "source": [
    "g1"
   ]
  },
  {
   "cell_type": "markdown",
   "id": "6110b25a-9845-4847-a489-d9ed3f1f92ac",
   "metadata": {},
   "source": [
    "## methods and attributes"
   ]
  },
  {
   "cell_type": "code",
   "execution_count": 39,
   "id": "d5a504c7-abc6-4358-a556-db0db04cb48c",
   "metadata": {},
   "outputs": [
    {
     "data": {
      "text/plain": [
       "A    5.5\n",
       "B    2.4\n",
       "C    6.9\n",
       "Name: inputs, dtype: float64"
      ]
     },
     "execution_count": 39,
     "metadata": {},
     "output_type": "execute_result"
    }
   ],
   "source": [
    "f"
   ]
  },
  {
   "cell_type": "code",
   "execution_count": 40,
   "id": "ef88c003-41a3-4bf6-bc16-e5b537452d23",
   "metadata": {},
   "outputs": [
    {
     "data": {
      "text/plain": [
       "array([5.5, 2.4, 6.9])"
      ]
     },
     "execution_count": 40,
     "metadata": {},
     "output_type": "execute_result"
    }
   ],
   "source": [
    "f.values"
   ]
  },
  {
   "cell_type": "code",
   "execution_count": 41,
   "id": "f3c04f25-213d-4aef-9281-a3b6802f3118",
   "metadata": {},
   "outputs": [
    {
     "data": {
      "text/plain": [
       "Index(['A', 'B', 'C'], dtype='object')"
      ]
     },
     "execution_count": 41,
     "metadata": {},
     "output_type": "execute_result"
    }
   ],
   "source": [
    "f.index"
   ]
  },
  {
   "cell_type": "code",
   "execution_count": 42,
   "id": "29ff07c8-936f-4f60-9ad4-8ddc3e5fc95f",
   "metadata": {},
   "outputs": [
    {
     "data": {
      "text/plain": [
       "dtype('float64')"
      ]
     },
     "execution_count": 42,
     "metadata": {},
     "output_type": "execute_result"
    }
   ],
   "source": [
    "f.dtype"
   ]
  },
  {
   "cell_type": "code",
   "execution_count": 43,
   "id": "d36a9f0f-a771-4016-8602-1f29ad940635",
   "metadata": {},
   "outputs": [
    {
     "data": {
      "text/plain": [
       "np.int64(3)"
      ]
     },
     "execution_count": 43,
     "metadata": {},
     "output_type": "execute_result"
    }
   ],
   "source": [
    "f.count()"
   ]
  },
  {
   "cell_type": "code",
   "execution_count": 44,
   "id": "65f50d37-06ab-4ea3-82ac-bbaca6389211",
   "metadata": {},
   "outputs": [
    {
     "data": {
      "text/plain": [
       "3"
      ]
     },
     "execution_count": 44,
     "metadata": {},
     "output_type": "execute_result"
    }
   ],
   "source": [
    "len(f)"
   ]
  },
  {
   "cell_type": "code",
   "execution_count": 45,
   "id": "6da4cc2b-a814-4ac1-a472-d677c985bf93",
   "metadata": {},
   "outputs": [
    {
     "data": {
      "text/plain": [
       "np.float64(14.8)"
      ]
     },
     "execution_count": 45,
     "metadata": {},
     "output_type": "execute_result"
    }
   ],
   "source": [
    "f.sum()"
   ]
  },
  {
   "cell_type": "code",
   "execution_count": 46,
   "id": "1d252212-e249-41a9-b507-20526a693d2e",
   "metadata": {},
   "outputs": [
    {
     "data": {
      "text/plain": [
       "6.9"
      ]
     },
     "execution_count": 46,
     "metadata": {},
     "output_type": "execute_result"
    }
   ],
   "source": [
    "f.max()"
   ]
  },
  {
   "cell_type": "code",
   "execution_count": 47,
   "id": "53dc2bff-ced2-408d-98df-b4f32ad7b0d4",
   "metadata": {},
   "outputs": [
    {
     "data": {
      "text/plain": [
       "2.4"
      ]
     },
     "execution_count": 47,
     "metadata": {},
     "output_type": "execute_result"
    }
   ],
   "source": [
    "f.min()"
   ]
  },
  {
   "cell_type": "code",
   "execution_count": 48,
   "id": "bd78a6ed-8a24-4a06-9fec-9798a50e532e",
   "metadata": {},
   "outputs": [
    {
     "data": {
      "text/plain": [
       "3"
      ]
     },
     "execution_count": 48,
     "metadata": {},
     "output_type": "execute_result"
    }
   ],
   "source": [
    "f.size"
   ]
  },
  {
   "cell_type": "code",
   "execution_count": 49,
   "id": "7e9de0fe-2377-403f-81cd-1f999284e743",
   "metadata": {},
   "outputs": [
    {
     "data": {
      "text/plain": [
       "(3,)"
      ]
     },
     "execution_count": 49,
     "metadata": {},
     "output_type": "execute_result"
    }
   ],
   "source": [
    "f.shape"
   ]
  },
  {
   "cell_type": "code",
   "execution_count": 50,
   "id": "73181973-30ac-4cc6-b868-6fa656cee926",
   "metadata": {},
   "outputs": [
    {
     "data": {
      "text/plain": [
       "A    10.5\n",
       "B     7.4\n",
       "C    11.9\n",
       "Name: inputs, dtype: float64"
      ]
     },
     "execution_count": 50,
     "metadata": {},
     "output_type": "execute_result"
    }
   ],
   "source": [
    "f + 5"
   ]
  },
  {
   "cell_type": "code",
   "execution_count": 51,
   "id": "4b13ce3a-383e-42b5-ac94-263b84979bdb",
   "metadata": {},
   "outputs": [
    {
     "data": {
      "text/plain": [
       "A    3.5\n",
       "B    0.4\n",
       "C    4.9\n",
       "Name: inputs, dtype: float64"
      ]
     },
     "execution_count": 51,
     "metadata": {},
     "output_type": "execute_result"
    }
   ],
   "source": [
    "f - 2"
   ]
  },
  {
   "cell_type": "code",
   "execution_count": 52,
   "id": "b527e2a3-d059-414c-8f6a-c72b002e174b",
   "metadata": {},
   "outputs": [
    {
     "data": {
      "text/plain": [
       "A    11.0\n",
       "B     4.8\n",
       "C    13.8\n",
       "Name: inputs, dtype: float64"
      ]
     },
     "execution_count": 52,
     "metadata": {},
     "output_type": "execute_result"
    }
   ],
   "source": [
    "f * 2"
   ]
  },
  {
   "cell_type": "code",
   "execution_count": null,
   "id": "777001f9-09bf-4cf1-9a5c-eb0965c29fab",
   "metadata": {},
   "outputs": [],
   "source": []
  }
 ],
 "metadata": {
  "kernelspec": {
   "display_name": "Python 3 (ipykernel)",
   "language": "python",
   "name": "python3"
  },
  "language_info": {
   "codemirror_mode": {
    "name": "ipython",
    "version": 3
   },
   "file_extension": ".py",
   "mimetype": "text/x-python",
   "name": "python",
   "nbconvert_exporter": "python",
   "pygments_lexer": "ipython3",
   "version": "3.13.5"
  }
 },
 "nbformat": 4,
 "nbformat_minor": 5
}
