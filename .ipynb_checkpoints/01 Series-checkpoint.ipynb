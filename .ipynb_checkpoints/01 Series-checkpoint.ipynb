{
 "cells": [
  {
   "cell_type": "markdown",
   "id": "f3f3b344-59ae-4cf9-a82f-6ed00ec72807",
   "metadata": {},
   "source": [
    "# * PANDAS *"
   ]
  },
  {
   "cell_type": "markdown",
   "id": "4c0f2c8b-01a2-4515-b7fc-48c3a6a09ac1",
   "metadata": {},
   "source": [
    "## Library to work with table data"
   ]
  },
  {
   "cell_type": "code",
   "execution_count": 1,
   "id": "31bae341-067c-4b0e-9cc7-034cdfcc2a7d",
   "metadata": {},
   "outputs": [],
   "source": [
    "import numpy as np\n",
    "import pandas as pd"
   ]
  },
  {
   "cell_type": "code",
   "execution_count": 6,
   "id": "b1364454-5ded-4164-b93e-7a0818ace297",
   "metadata": {},
   "outputs": [],
   "source": [
    "li = ['sahil bhai', 'ujjwal bhai', 'happy bhai']"
   ]
  },
  {
   "cell_type": "code",
   "execution_count": 11,
   "id": "44e261a1-404c-4360-bd2d-9af2f890ebfb",
   "metadata": {},
   "outputs": [],
   "source": [
    "a = pd.Series(li)"
   ]
  },
  {
   "cell_type": "code",
   "execution_count": 12,
   "id": "802f8bed-093f-4282-be3b-bc2e08686e90",
   "metadata": {},
   "outputs": [
    {
     "data": {
      "text/plain": [
       "0     sahil bhai\n",
       "1    ujjwal bhai\n",
       "2     happy bhai\n",
       "dtype: object"
      ]
     },
     "execution_count": 12,
     "metadata": {},
     "output_type": "execute_result"
    }
   ],
   "source": [
    "a"
   ]
  },
  {
   "cell_type": "code",
   "execution_count": 13,
   "id": "b871b79a-0536-4f52-a69a-a245636a4467",
   "metadata": {},
   "outputs": [],
   "source": [
    "b = pd.Series(li, index=['A','B','C'], name='name')"
   ]
  },
  {
   "cell_type": "code",
   "execution_count": 14,
   "id": "b870385c-3ffe-45f1-9ef3-b83fe546c9c6",
   "metadata": {},
   "outputs": [
    {
     "data": {
      "text/plain": [
       "A     sahil bhai\n",
       "B    ujjwal bhai\n",
       "C     happy bhai\n",
       "Name: name, dtype: object"
      ]
     },
     "execution_count": 14,
     "metadata": {},
     "output_type": "execute_result"
    }
   ],
   "source": [
    "b"
   ]
  },
  {
   "cell_type": "code",
   "execution_count": 21,
   "id": "4b7f7673-c9d5-4f80-9a09-12dbefb4cad1",
   "metadata": {},
   "outputs": [],
   "source": [
    "c = pd.Series(['Maths','Science','English'], index = ['A', 'B', 'C'])"
   ]
  },
  {
   "cell_type": "code",
   "execution_count": 22,
   "id": "60b9727f-4132-49a4-96dd-f5f4857810a6",
   "metadata": {},
   "outputs": [
    {
     "data": {
      "text/plain": [
       "A      Maths\n",
       "B    Science\n",
       "C    English\n",
       "dtype: object"
      ]
     },
     "execution_count": 22,
     "metadata": {},
     "output_type": "execute_result"
    }
   ],
   "source": [
    "c"
   ]
  },
  {
   "cell_type": "code",
   "execution_count": 23,
   "id": "962b0a5f-646b-4758-8e4d-557b8c28e0e3",
   "metadata": {},
   "outputs": [
    {
     "data": {
      "text/plain": [
       "'Maths'"
      ]
     },
     "execution_count": 23,
     "metadata": {},
     "output_type": "execute_result"
    }
   ],
   "source": [
    "c['A']"
   ]
  },
  {
   "cell_type": "code",
   "execution_count": 24,
   "id": "65d1c50f-24c0-46f3-81cc-9ad8dc9fdfe2",
   "metadata": {},
   "outputs": [
    {
     "data": {
      "text/plain": [
       "'Science'"
      ]
     },
     "execution_count": 24,
     "metadata": {},
     "output_type": "execute_result"
    }
   ],
   "source": [
    "c['B']"
   ]
  },
  {
   "cell_type": "code",
   "execution_count": 29,
   "id": "d59c8ba0-6ffc-4d1a-a352-7d3cadae3982",
   "metadata": {},
   "outputs": [],
   "source": [
    "c = pd.Series(['Maths','Science','English'], index = 'A B C'.split(), name = \"subjects\")"
   ]
  },
  {
   "cell_type": "code",
   "execution_count": 30,
   "id": "5cbc17bc-11d5-4294-90eb-aa9a15c80286",
   "metadata": {},
   "outputs": [
    {
     "data": {
      "text/plain": [
       "'Maths'"
      ]
     },
     "execution_count": 30,
     "metadata": {},
     "output_type": "execute_result"
    }
   ],
   "source": [
    "c['A']"
   ]
  },
  {
   "cell_type": "markdown",
   "id": "4d47a587-da6c-44bc-a077-5311dc8c3766",
   "metadata": {},
   "source": [
    "## Series with dictionary"
   ]
  },
  {
   "cell_type": "code",
   "execution_count": 31,
   "id": "20c475ad-4880-4382-85a1-7ba18e6aa34e",
   "metadata": {},
   "outputs": [],
   "source": [
    "d = {'city':['Delhi', 'Chd', 'Agra']}"
   ]
  },
  {
   "cell_type": "code",
   "execution_count": 35,
   "id": "5a1dd92d-24b7-459c-8b86-a476311b1c51",
   "metadata": {},
   "outputs": [
    {
     "data": {
      "text/plain": [
       "0    Delhi\n",
       "1      Chd\n",
       "2     Agra\n",
       "Name: city, dtype: object"
      ]
     },
     "execution_count": 35,
     "metadata": {},
     "output_type": "execute_result"
    }
   ],
   "source": [
    "pd.Series(d['city'], name= 'city')"
   ]
  },
  {
   "cell_type": "code",
   "execution_count": 37,
   "id": "fbd42789-24af-4b72-9ef7-1c26642ba877",
   "metadata": {},
   "outputs": [],
   "source": [
    "e = pd.Series([50,20,60], index = 'A B C'.split(), name='marks')"
   ]
  },
  {
   "cell_type": "code",
   "execution_count": 38,
   "id": "5c199fe1-f2c8-438a-a163-3b873947a6a8",
   "metadata": {},
   "outputs": [
    {
     "data": {
      "text/plain": [
       "A    50\n",
       "B    20\n",
       "C    60\n",
       "Name: marks, dtype: int64"
      ]
     },
     "execution_count": 38,
     "metadata": {},
     "output_type": "execute_result"
    }
   ],
   "source": [
    "e"
   ]
  },
  {
   "cell_type": "code",
   "execution_count": 2,
   "id": "cdf492ae-8728-40d4-8af6-fb25adbb1b5e",
   "metadata": {},
   "outputs": [],
   "source": [
    "f = pd.Series([5.5, 2.4, 6.9], index=[\"A\", \"B\" , \"C\"], name=\"inputs\")"
   ]
  },
  {
   "cell_type": "code",
   "execution_count": 3,
   "id": "06b83171-f641-421f-91de-21a3827c8bf2",
   "metadata": {},
   "outputs": [
    {
     "data": {
      "text/plain": [
       "A    5.5\n",
       "B    2.4\n",
       "C    6.9\n",
       "Name: inputs, dtype: float64"
      ]
     },
     "execution_count": 3,
     "metadata": {},
     "output_type": "execute_result"
    }
   ],
   "source": [
    "f"
   ]
  },
  {
   "cell_type": "code",
   "execution_count": 4,
   "id": "85a8f931-80e7-41d6-99bd-a2b9f7f84e6a",
   "metadata": {},
   "outputs": [],
   "source": [
    "g = pd.Series([True, False], index=[\"A\", \"B\" ], name=\"types\")"
   ]
  },
  {
   "cell_type": "code",
   "execution_count": 5,
   "id": "a524c46f-705e-40e5-b299-e0ae8575188b",
   "metadata": {},
   "outputs": [
    {
     "data": {
      "text/plain": [
       "A     True\n",
       "B    False\n",
       "Name: types, dtype: bool"
      ]
     },
     "execution_count": 5,
     "metadata": {},
     "output_type": "execute_result"
    }
   ],
   "source": [
    "g"
   ]
  },
  {
   "cell_type": "markdown",
   "id": "6110b25a-9845-4847-a489-d9ed3f1f92ac",
   "metadata": {},
   "source": [
    "## methods and attributes"
   ]
  },
  {
   "cell_type": "code",
   "execution_count": 6,
   "id": "d5a504c7-abc6-4358-a556-db0db04cb48c",
   "metadata": {},
   "outputs": [
    {
     "data": {
      "text/plain": [
       "A    5.5\n",
       "B    2.4\n",
       "C    6.9\n",
       "Name: inputs, dtype: float64"
      ]
     },
     "execution_count": 6,
     "metadata": {},
     "output_type": "execute_result"
    }
   ],
   "source": [
    "f"
   ]
  },
  {
   "cell_type": "code",
   "execution_count": 7,
   "id": "ef88c003-41a3-4bf6-bc16-e5b537452d23",
   "metadata": {},
   "outputs": [
    {
     "data": {
      "text/plain": [
       "array([5.5, 2.4, 6.9])"
      ]
     },
     "execution_count": 7,
     "metadata": {},
     "output_type": "execute_result"
    }
   ],
   "source": [
    "f.values"
   ]
  },
  {
   "cell_type": "code",
   "execution_count": 8,
   "id": "f3c04f25-213d-4aef-9281-a3b6802f3118",
   "metadata": {},
   "outputs": [
    {
     "data": {
      "text/plain": [
       "Index(['A', 'B', 'C'], dtype='object')"
      ]
     },
     "execution_count": 8,
     "metadata": {},
     "output_type": "execute_result"
    }
   ],
   "source": [
    "f.index"
   ]
  },
  {
   "cell_type": "code",
   "execution_count": 9,
   "id": "29ff07c8-936f-4f60-9ad4-8ddc3e5fc95f",
   "metadata": {},
   "outputs": [
    {
     "data": {
      "text/plain": [
       "dtype('float64')"
      ]
     },
     "execution_count": 9,
     "metadata": {},
     "output_type": "execute_result"
    }
   ],
   "source": [
    "f.dtype"
   ]
  },
  {
   "cell_type": "code",
   "execution_count": 11,
   "id": "d36a9f0f-a771-4016-8602-1f29ad940635",
   "metadata": {},
   "outputs": [
    {
     "data": {
      "text/plain": [
       "np.int64(3)"
      ]
     },
     "execution_count": 11,
     "metadata": {},
     "output_type": "execute_result"
    }
   ],
   "source": [
    "f.count()"
   ]
  },
  {
   "cell_type": "code",
   "execution_count": 12,
   "id": "65f50d37-06ab-4ea3-82ac-bbaca6389211",
   "metadata": {},
   "outputs": [
    {
     "data": {
      "text/plain": [
       "3"
      ]
     },
     "execution_count": 12,
     "metadata": {},
     "output_type": "execute_result"
    }
   ],
   "source": [
    "len(f)"
   ]
  },
  {
   "cell_type": "code",
   "execution_count": 14,
   "id": "6da4cc2b-a814-4ac1-a472-d677c985bf93",
   "metadata": {},
   "outputs": [
    {
     "data": {
      "text/plain": [
       "np.float64(14.8)"
      ]
     },
     "execution_count": 14,
     "metadata": {},
     "output_type": "execute_result"
    }
   ],
   "source": [
    "f.sum()"
   ]
  },
  {
   "cell_type": "code",
   "execution_count": 16,
   "id": "1d252212-e249-41a9-b507-20526a693d2e",
   "metadata": {},
   "outputs": [
    {
     "data": {
      "text/plain": [
       "6.9"
      ]
     },
     "execution_count": 16,
     "metadata": {},
     "output_type": "execute_result"
    }
   ],
   "source": [
    "f.max()"
   ]
  },
  {
   "cell_type": "code",
   "execution_count": 17,
   "id": "53dc2bff-ced2-408d-98df-b4f32ad7b0d4",
   "metadata": {},
   "outputs": [
    {
     "data": {
      "text/plain": [
       "2.4"
      ]
     },
     "execution_count": 17,
     "metadata": {},
     "output_type": "execute_result"
    }
   ],
   "source": [
    "f.min()"
   ]
  },
  {
   "cell_type": "code",
   "execution_count": 18,
   "id": "bd78a6ed-8a24-4a06-9fec-9798a50e532e",
   "metadata": {},
   "outputs": [
    {
     "data": {
      "text/plain": [
       "3"
      ]
     },
     "execution_count": 18,
     "metadata": {},
     "output_type": "execute_result"
    }
   ],
   "source": [
    "f.size"
   ]
  },
  {
   "cell_type": "code",
   "execution_count": 19,
   "id": "7e9de0fe-2377-403f-81cd-1f999284e743",
   "metadata": {},
   "outputs": [
    {
     "data": {
      "text/plain": [
       "(3,)"
      ]
     },
     "execution_count": 19,
     "metadata": {},
     "output_type": "execute_result"
    }
   ],
   "source": [
    "f.shape"
   ]
  },
  {
   "cell_type": "code",
   "execution_count": 20,
   "id": "73181973-30ac-4cc6-b868-6fa656cee926",
   "metadata": {},
   "outputs": [
    {
     "data": {
      "text/plain": [
       "A    10.5\n",
       "B     7.4\n",
       "C    11.9\n",
       "Name: inputs, dtype: float64"
      ]
     },
     "execution_count": 20,
     "metadata": {},
     "output_type": "execute_result"
    }
   ],
   "source": [
    "f + 5"
   ]
  },
  {
   "cell_type": "code",
   "execution_count": 22,
   "id": "4b13ce3a-383e-42b5-ac94-263b84979bdb",
   "metadata": {},
   "outputs": [
    {
     "data": {
      "text/plain": [
       "A    3.5\n",
       "B    0.4\n",
       "C    4.9\n",
       "Name: inputs, dtype: float64"
      ]
     },
     "execution_count": 22,
     "metadata": {},
     "output_type": "execute_result"
    }
   ],
   "source": [
    "f - 2"
   ]
  },
  {
   "cell_type": "code",
   "execution_count": null,
   "id": "b527e2a3-d059-414c-8f6a-c72b002e174b",
   "metadata": {},
   "outputs": [],
   "source": [
    "f * 2"
   ]
  }
 ],
 "metadata": {
  "kernelspec": {
   "display_name": "Python 3 (ipykernel)",
   "language": "python",
   "name": "python3"
  },
  "language_info": {
   "codemirror_mode": {
    "name": "ipython",
    "version": 3
   },
   "file_extension": ".py",
   "mimetype": "text/x-python",
   "name": "python",
   "nbconvert_exporter": "python",
   "pygments_lexer": "ipython3",
   "version": "3.13.5"
  }
 },
 "nbformat": 4,
 "nbformat_minor": 5
}
