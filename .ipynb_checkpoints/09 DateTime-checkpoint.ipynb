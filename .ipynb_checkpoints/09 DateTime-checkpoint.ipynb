{
 "cells": [
  {
   "cell_type": "code",
   "execution_count": 1,
   "id": "74cdcc51-5f29-4881-9fb8-f387ec32c2ba",
   "metadata": {},
   "outputs": [],
   "source": [
    "import numpy as np\n",
    "import pandas as pd\n",
    "import matplotlib.pyplot as plt\n",
    "import seaborn as sns"
   ]
  },
  {
   "cell_type": "code",
   "execution_count": 2,
   "id": "644a0c1e-367a-4bc1-8258-6afacada902f",
   "metadata": {},
   "outputs": [
    {
     "name": "stdout",
     "output_type": "stream",
     "text": [
      "   id         raw_date\n",
      "0   1       2025-10-06\n",
      "1   2       06/10/2025\n",
      "2   3       10/06/2025\n",
      "3   4  October 6, 2025\n",
      "4   5      06-Oct-2025\n",
      "5   6         20251006\n"
     ]
    }
   ],
   "source": [
    "import pandas as pd\n",
    "\n",
    "# Sample data with mixed date formats\n",
    "data = {\n",
    "    'id': [1, 2, 3, 4, 5, 6],\n",
    "    'raw_date': [\n",
    "        '2025-10-06',     # ISO format\n",
    "        '06/10/2025',     # European format (DD/MM/YYYY)\n",
    "        '10/06/2025',     # US format (MM/DD/YYYY)\n",
    "        'October 6, 2025',# Full month name\n",
    "        '06-Oct-2025',    # Abbreviated month\n",
    "        '20251006'        # Compact YYYYMMDD\n",
    "    ]\n",
    "}\n",
    "\n",
    "# Create DataFrame\n",
    "df = pd.DataFrame(data)\n",
    "\n",
    "print(df)"
   ]
  },
  {
   "cell_type": "code",
   "execution_count": 3,
   "id": "fec67e9f-28dd-4240-b514-59ca6444dafd",
   "metadata": {},
   "outputs": [
    {
     "data": {
      "text/html": [
       "<div>\n",
       "<style scoped>\n",
       "    .dataframe tbody tr th:only-of-type {\n",
       "        vertical-align: middle;\n",
       "    }\n",
       "\n",
       "    .dataframe tbody tr th {\n",
       "        vertical-align: top;\n",
       "    }\n",
       "\n",
       "    .dataframe thead th {\n",
       "        text-align: right;\n",
       "    }\n",
       "</style>\n",
       "<table border=\"1\" class=\"dataframe\">\n",
       "  <thead>\n",
       "    <tr style=\"text-align: right;\">\n",
       "      <th></th>\n",
       "      <th>id</th>\n",
       "      <th>raw_date</th>\n",
       "    </tr>\n",
       "  </thead>\n",
       "  <tbody>\n",
       "    <tr>\n",
       "      <th>0</th>\n",
       "      <td>1</td>\n",
       "      <td>2025-10-06</td>\n",
       "    </tr>\n",
       "    <tr>\n",
       "      <th>1</th>\n",
       "      <td>2</td>\n",
       "      <td>06/10/2025</td>\n",
       "    </tr>\n",
       "    <tr>\n",
       "      <th>2</th>\n",
       "      <td>3</td>\n",
       "      <td>10/06/2025</td>\n",
       "    </tr>\n",
       "    <tr>\n",
       "      <th>3</th>\n",
       "      <td>4</td>\n",
       "      <td>October 6, 2025</td>\n",
       "    </tr>\n",
       "    <tr>\n",
       "      <th>4</th>\n",
       "      <td>5</td>\n",
       "      <td>06-Oct-2025</td>\n",
       "    </tr>\n",
       "    <tr>\n",
       "      <th>5</th>\n",
       "      <td>6</td>\n",
       "      <td>20251006</td>\n",
       "    </tr>\n",
       "  </tbody>\n",
       "</table>\n",
       "</div>"
      ],
      "text/plain": [
       "   id         raw_date\n",
       "0   1       2025-10-06\n",
       "1   2       06/10/2025\n",
       "2   3       10/06/2025\n",
       "3   4  October 6, 2025\n",
       "4   5      06-Oct-2025\n",
       "5   6         20251006"
      ]
     },
     "execution_count": 3,
     "metadata": {},
     "output_type": "execute_result"
    }
   ],
   "source": [
    "df"
   ]
  },
  {
   "cell_type": "markdown",
   "id": "6d13111a-781e-421e-881f-d58f168aba01",
   "metadata": {},
   "source": [
    "# converting column into datetime"
   ]
  },
  {
   "cell_type": "code",
   "execution_count": 5,
   "id": "400a4ddb-3253-418f-ae31-fd121d434bc1",
   "metadata": {},
   "outputs": [
    {
     "data": {
      "text/plain": [
       "0   2025-10-06\n",
       "1          NaT\n",
       "2          NaT\n",
       "3          NaT\n",
       "4          NaT\n",
       "5          NaT\n",
       "Name: raw_date, dtype: datetime64[ns]"
      ]
     },
     "execution_count": 5,
     "metadata": {},
     "output_type": "execute_result"
    }
   ],
   "source": [
    "# 'df' DataFrame ke 'raw_date' column ko datetime format mein convert karo\n",
    "# errors='coerce' ka matlab hai agar koi invalid date hai toh usko NaT (Not a Time) bana do\n",
    "pd.to_datetime(df['raw_date'], errors='coerce')"
   ]
  },
  {
   "cell_type": "code",
   "execution_count": 9,
   "id": "436e03ec-c6e7-4976-aa14-f918337664b9",
   "metadata": {},
   "outputs": [],
   "source": [
    "# \"raw_date\" column ke index 1 se 2 tak ke values ko datetime format me convert kar rahe hain\n",
    "a = pd.to_datetime(df[\"raw_date\"][1:2], format='mixed')\n",
    "# format='mixed' ka matlab hai ki agar dates alag-alag format me hain (jaise 'YYYY-MM-DD' aur 'DD/MM/YYYY'),\n",
    "# to pandas unhe automatically detect karke sahi format me convert karega"
   ]
  },
  {
   "cell_type": "code",
   "execution_count": 10,
   "id": "0c111d9e-8842-44e7-ac20-46beaa1c3934",
   "metadata": {},
   "outputs": [
    {
     "data": {
      "text/plain": [
       "1   2025-06-10\n",
       "Name: raw_date, dtype: datetime64[ns]"
      ]
     },
     "execution_count": 10,
     "metadata": {},
     "output_type": "execute_result"
    }
   ],
   "source": [
    "a"
   ]
  },
  {
   "cell_type": "code",
   "execution_count": 12,
   "id": "1ba7fc25-49cc-45d9-8cdf-13fbea3dc796",
   "metadata": {},
   "outputs": [
    {
     "data": {
      "text/plain": [
       "1    2025\n",
       "Name: raw_date, dtype: int32"
      ]
     },
     "execution_count": 12,
     "metadata": {},
     "output_type": "execute_result"
    }
   ],
   "source": [
    "a.dt.year# [translate:Is line se hum datetime object me se year ka part nikalte hain]\n",
    "a.dt.year"
   ]
  },
  {
   "cell_type": "code",
   "execution_count": 14,
   "id": "d2584939-af61-409a-800b-0f39fb192ad5",
   "metadata": {},
   "outputs": [
    {
     "data": {
      "text/plain": [
       "1    6\n",
       "Name: raw_date, dtype: int32"
      ]
     },
     "execution_count": 14,
     "metadata": {},
     "output_type": "execute_result"
    }
   ],
   "source": [
    "a.dt.month # is se hum pandas Series ke datetime object me se month part ko extract karte hain\n",
    "# Yani ki ye code datetime se month number (1 to 12) return karega"
   ]
  },
  {
   "cell_type": "code",
   "execution_count": 15,
   "id": "7020f722-3679-4a0b-8659-47277ee51daf",
   "metadata": {},
   "outputs": [
    {
     "data": {
      "text/plain": [
       "1    10\n",
       "Name: raw_date, dtype: int32"
      ]
     },
     "execution_count": 15,
     "metadata": {},
     "output_type": "execute_result"
    }
   ],
   "source": [
    "a.dt.day"
   ]
  },
  {
   "cell_type": "code",
   "execution_count": 16,
   "id": "b4b7054c-0f6b-461e-a4c1-f042edcd5e78",
   "metadata": {},
   "outputs": [
    {
     "data": {
      "text/plain": [
       "1    June\n",
       "Name: raw_date, dtype: object"
      ]
     },
     "execution_count": 16,
     "metadata": {},
     "output_type": "execute_result"
    }
   ],
   "source": [
    "a.dt.month_name()"
   ]
  },
  {
   "cell_type": "code",
   "execution_count": 17,
   "id": "45727462-427d-4165-a491-865fd2c6773a",
   "metadata": {},
   "outputs": [],
   "source": [
    "import pandas as pd\n",
    "\n",
    "# Sample sales data\n",
    "data = {\n",
    "    'sale_id': [101, 102, 103, 104, 105],\n",
    "    'product': ['Widget', 'Gadget', 'Widget', 'Thingy', 'Gadget'],\n",
    "    'quantity': [3, 5, 2, 7, 1],\n",
    "    'price_per_unit': [20.0, 15.5, 20.0, 10.0, 15.5],\n",
    "    'sale_date': [\n",
    "        '2025-10-01',\n",
    "        '2025-10-02',\n",
    "        '2025-10-03',\n",
    "        '2025-10-03',\n",
    "        '2025-10-04'\n",
    "    ]\n",
    "}\n",
    "\n",
    "# Create DataFrame\n",
    "df = pd.DataFrame(data)\n",
    "\n",
    "# Calculate total"
   ]
  },
  {
   "cell_type": "code",
   "execution_count": 18,
   "id": "4c601ba7-a5e4-42b6-a291-f364eacc218d",
   "metadata": {},
   "outputs": [
    {
     "data": {
      "text/html": [
       "<div>\n",
       "<style scoped>\n",
       "    .dataframe tbody tr th:only-of-type {\n",
       "        vertical-align: middle;\n",
       "    }\n",
       "\n",
       "    .dataframe tbody tr th {\n",
       "        vertical-align: top;\n",
       "    }\n",
       "\n",
       "    .dataframe thead th {\n",
       "        text-align: right;\n",
       "    }\n",
       "</style>\n",
       "<table border=\"1\" class=\"dataframe\">\n",
       "  <thead>\n",
       "    <tr style=\"text-align: right;\">\n",
       "      <th></th>\n",
       "      <th>sale_id</th>\n",
       "      <th>product</th>\n",
       "      <th>quantity</th>\n",
       "      <th>price_per_unit</th>\n",
       "      <th>sale_date</th>\n",
       "    </tr>\n",
       "  </thead>\n",
       "  <tbody>\n",
       "    <tr>\n",
       "      <th>0</th>\n",
       "      <td>101</td>\n",
       "      <td>Widget</td>\n",
       "      <td>3</td>\n",
       "      <td>20.0</td>\n",
       "      <td>2025-10-01</td>\n",
       "    </tr>\n",
       "    <tr>\n",
       "      <th>1</th>\n",
       "      <td>102</td>\n",
       "      <td>Gadget</td>\n",
       "      <td>5</td>\n",
       "      <td>15.5</td>\n",
       "      <td>2025-10-02</td>\n",
       "    </tr>\n",
       "    <tr>\n",
       "      <th>2</th>\n",
       "      <td>103</td>\n",
       "      <td>Widget</td>\n",
       "      <td>2</td>\n",
       "      <td>20.0</td>\n",
       "      <td>2025-10-03</td>\n",
       "    </tr>\n",
       "    <tr>\n",
       "      <th>3</th>\n",
       "      <td>104</td>\n",
       "      <td>Thingy</td>\n",
       "      <td>7</td>\n",
       "      <td>10.0</td>\n",
       "      <td>2025-10-03</td>\n",
       "    </tr>\n",
       "    <tr>\n",
       "      <th>4</th>\n",
       "      <td>105</td>\n",
       "      <td>Gadget</td>\n",
       "      <td>1</td>\n",
       "      <td>15.5</td>\n",
       "      <td>2025-10-04</td>\n",
       "    </tr>\n",
       "  </tbody>\n",
       "</table>\n",
       "</div>"
      ],
      "text/plain": [
       "   sale_id product  quantity  price_per_unit   sale_date\n",
       "0      101  Widget         3            20.0  2025-10-01\n",
       "1      102  Gadget         5            15.5  2025-10-02\n",
       "2      103  Widget         2            20.0  2025-10-03\n",
       "3      104  Thingy         7            10.0  2025-10-03\n",
       "4      105  Gadget         1            15.5  2025-10-04"
      ]
     },
     "execution_count": 18,
     "metadata": {},
     "output_type": "execute_result"
    }
   ],
   "source": [
    "df"
   ]
  },
  {
   "cell_type": "code",
   "execution_count": 19,
   "id": "a014771b-f872-4282-bcd6-faa88133d862",
   "metadata": {},
   "outputs": [
    {
     "name": "stdout",
     "output_type": "stream",
     "text": [
      "<class 'pandas.core.frame.DataFrame'>\n",
      "RangeIndex: 5 entries, 0 to 4\n",
      "Data columns (total 5 columns):\n",
      " #   Column          Non-Null Count  Dtype  \n",
      "---  ------          --------------  -----  \n",
      " 0   sale_id         5 non-null      int64  \n",
      " 1   product         5 non-null      object \n",
      " 2   quantity        5 non-null      int64  \n",
      " 3   price_per_unit  5 non-null      float64\n",
      " 4   sale_date       5 non-null      object \n",
      "dtypes: float64(1), int64(2), object(2)\n",
      "memory usage: 332.0+ bytes\n"
     ]
    }
   ],
   "source": [
    "df.info()"
   ]
  },
  {
   "cell_type": "code",
   "execution_count": 22,
   "id": "bfbe1cf0-11b8-421e-be22-60757a8caa9a",
   "metadata": {},
   "outputs": [],
   "source": [
    "df['order_date'] = pd.to_datetime(df['sale_date'])  # yeh line 'sale_date' column ko datetime format mein convert\n",
    "# karke naya column 'order_date' banati hai"
   ]
  },
  {
   "cell_type": "code",
   "execution_count": 26,
   "id": "19ededdd-fa26-4dcd-b73f-93724cb0882c",
   "metadata": {},
   "outputs": [
    {
     "data": {
      "text/plain": [
       "0   2025-10-01\n",
       "1   2025-10-02\n",
       "2   2025-10-03\n",
       "3   2025-10-03\n",
       "4   2025-10-04\n",
       "Name: order_date, dtype: datetime64[ns]"
      ]
     },
     "execution_count": 26,
     "metadata": {},
     "output_type": "execute_result"
    }
   ],
   "source": [
    "df['order_date']"
   ]
  },
  {
   "cell_type": "code",
   "execution_count": 27,
   "id": "27078eec-dfe9-40fd-83b7-6ca1b66bf80f",
   "metadata": {},
   "outputs": [
    {
     "data": {
      "text/html": [
       "<div>\n",
       "<style scoped>\n",
       "    .dataframe tbody tr th:only-of-type {\n",
       "        vertical-align: middle;\n",
       "    }\n",
       "\n",
       "    .dataframe tbody tr th {\n",
       "        vertical-align: top;\n",
       "    }\n",
       "\n",
       "    .dataframe thead th {\n",
       "        text-align: right;\n",
       "    }\n",
       "</style>\n",
       "<table border=\"1\" class=\"dataframe\">\n",
       "  <thead>\n",
       "    <tr style=\"text-align: right;\">\n",
       "      <th></th>\n",
       "      <th>sale_id</th>\n",
       "      <th>product</th>\n",
       "      <th>quantity</th>\n",
       "      <th>price_per_unit</th>\n",
       "      <th>sale_date</th>\n",
       "      <th>order_date</th>\n",
       "    </tr>\n",
       "  </thead>\n",
       "  <tbody>\n",
       "    <tr>\n",
       "      <th>0</th>\n",
       "      <td>101</td>\n",
       "      <td>Widget</td>\n",
       "      <td>3</td>\n",
       "      <td>20.0</td>\n",
       "      <td>2025-10-01</td>\n",
       "      <td>2025-10-01</td>\n",
       "    </tr>\n",
       "    <tr>\n",
       "      <th>1</th>\n",
       "      <td>102</td>\n",
       "      <td>Gadget</td>\n",
       "      <td>5</td>\n",
       "      <td>15.5</td>\n",
       "      <td>2025-10-02</td>\n",
       "      <td>2025-10-02</td>\n",
       "    </tr>\n",
       "    <tr>\n",
       "      <th>2</th>\n",
       "      <td>103</td>\n",
       "      <td>Widget</td>\n",
       "      <td>2</td>\n",
       "      <td>20.0</td>\n",
       "      <td>2025-10-03</td>\n",
       "      <td>2025-10-03</td>\n",
       "    </tr>\n",
       "    <tr>\n",
       "      <th>3</th>\n",
       "      <td>104</td>\n",
       "      <td>Thingy</td>\n",
       "      <td>7</td>\n",
       "      <td>10.0</td>\n",
       "      <td>2025-10-03</td>\n",
       "      <td>2025-10-03</td>\n",
       "    </tr>\n",
       "    <tr>\n",
       "      <th>4</th>\n",
       "      <td>105</td>\n",
       "      <td>Gadget</td>\n",
       "      <td>1</td>\n",
       "      <td>15.5</td>\n",
       "      <td>2025-10-04</td>\n",
       "      <td>2025-10-04</td>\n",
       "    </tr>\n",
       "  </tbody>\n",
       "</table>\n",
       "</div>"
      ],
      "text/plain": [
       "   sale_id product  quantity  price_per_unit   sale_date order_date\n",
       "0      101  Widget         3            20.0  2025-10-01 2025-10-01\n",
       "1      102  Gadget         5            15.5  2025-10-02 2025-10-02\n",
       "2      103  Widget         2            20.0  2025-10-03 2025-10-03\n",
       "3      104  Thingy         7            10.0  2025-10-03 2025-10-03\n",
       "4      105  Gadget         1            15.5  2025-10-04 2025-10-04"
      ]
     },
     "execution_count": 27,
     "metadata": {},
     "output_type": "execute_result"
    }
   ],
   "source": [
    "df"
   ]
  },
  {
   "cell_type": "code",
   "execution_count": 28,
   "id": "76f24d44-a453-437c-a1a3-96718c604da2",
   "metadata": {},
   "outputs": [
    {
     "data": {
      "text/plain": [
       "0    Wednesday\n",
       "1     Thursday\n",
       "2       Friday\n",
       "3       Friday\n",
       "4     Saturday\n",
       "Name: order_date, dtype: object"
      ]
     },
     "execution_count": 28,
     "metadata": {},
     "output_type": "execute_result"
    }
   ],
   "source": [
    "df['order_date'].dt.day_name()"
   ]
  },
  {
   "cell_type": "code",
   "execution_count": 30,
   "id": "0dfd24a3-236a-4451-b999-6745a4d926bc",
   "metadata": {},
   "outputs": [
    {
     "data": {
      "text/html": [
       "<div>\n",
       "<style scoped>\n",
       "    .dataframe tbody tr th:only-of-type {\n",
       "        vertical-align: middle;\n",
       "    }\n",
       "\n",
       "    .dataframe tbody tr th {\n",
       "        vertical-align: top;\n",
       "    }\n",
       "\n",
       "    .dataframe thead th {\n",
       "        text-align: right;\n",
       "    }\n",
       "</style>\n",
       "<table border=\"1\" class=\"dataframe\">\n",
       "  <thead>\n",
       "    <tr style=\"text-align: right;\">\n",
       "      <th></th>\n",
       "      <th>sale_id</th>\n",
       "      <th>quantity</th>\n",
       "      <th>price_per_unit</th>\n",
       "    </tr>\n",
       "    <tr>\n",
       "      <th>order_date</th>\n",
       "      <th></th>\n",
       "      <th></th>\n",
       "      <th></th>\n",
       "    </tr>\n",
       "  </thead>\n",
       "  <tbody>\n",
       "    <tr>\n",
       "      <th>Friday</th>\n",
       "      <td>207</td>\n",
       "      <td>9</td>\n",
       "      <td>30.0</td>\n",
       "    </tr>\n",
       "    <tr>\n",
       "      <th>Saturday</th>\n",
       "      <td>105</td>\n",
       "      <td>1</td>\n",
       "      <td>15.5</td>\n",
       "    </tr>\n",
       "    <tr>\n",
       "      <th>Thursday</th>\n",
       "      <td>102</td>\n",
       "      <td>5</td>\n",
       "      <td>15.5</td>\n",
       "    </tr>\n",
       "    <tr>\n",
       "      <th>Wednesday</th>\n",
       "      <td>101</td>\n",
       "      <td>3</td>\n",
       "      <td>20.0</td>\n",
       "    </tr>\n",
       "  </tbody>\n",
       "</table>\n",
       "</div>"
      ],
      "text/plain": [
       "            sale_id  quantity  price_per_unit\n",
       "order_date                                   \n",
       "Friday          207         9            30.0\n",
       "Saturday        105         1            15.5\n",
       "Thursday        102         5            15.5\n",
       "Wednesday       101         3            20.0"
      ]
     },
     "execution_count": 30,
     "metadata": {},
     "output_type": "execute_result"
    }
   ],
   "source": [
    "# df ke andar ke data ko group karna hai 'order_date' ke day name ke basis par\n",
    "# dt.day_name() se date ka din ka naam milta hai jese Monday, Tuesday, etc.\n",
    "# fir har din ke group ke liye 'price_per_unit' ka sum nikalna hai\n",
    "df.groupby(df['order_date'].dt.day_name()).sum('price_per_unit')"
   ]
  },
  {
   "cell_type": "code",
   "execution_count": null,
   "id": "0609abe0-bb52-429c-98c9-b534fb2be4de",
   "metadata": {},
   "outputs": [],
   "source": []
  }
 ],
 "metadata": {
  "kernelspec": {
   "display_name": "Python 3 (ipykernel)",
   "language": "python",
   "name": "python3"
  },
  "language_info": {
   "codemirror_mode": {
    "name": "ipython",
    "version": 3
   },
   "file_extension": ".py",
   "mimetype": "text/x-python",
   "name": "python",
   "nbconvert_exporter": "python",
   "pygments_lexer": "ipython3",
   "version": "3.13.5"
  }
 },
 "nbformat": 4,
 "nbformat_minor": 5
}
