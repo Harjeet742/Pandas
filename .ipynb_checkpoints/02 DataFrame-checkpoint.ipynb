{
 "cells": [
  {
   "cell_type": "markdown",
   "id": "a7f8ad03-aaee-4010-a164-0db8c7d2f0cd",
   "metadata": {},
   "source": [
    "# Data frame -table\n",
    "# series-row or column"
   ]
  },
  {
   "cell_type": "code",
   "execution_count": 25,
   "id": "6d0280db-0210-4a60-81b3-b02ac5a9fc47",
   "metadata": {},
   "outputs": [],
   "source": [
    "import numpy as np\n",
    "import pandas as pd"
   ]
  },
  {
   "cell_type": "code",
   "execution_count": 35,
   "id": "8a488c4e-337b-4e69-8731-bf8d398a5009",
   "metadata": {},
   "outputs": [],
   "source": [
    "a = ['ujwal', 'sahil', 'akarsh']"
   ]
  },
  {
   "cell_type": "code",
   "execution_count": 36,
   "id": "6fc378a3-a79f-44a7-87d0-3731dbbcf167",
   "metadata": {},
   "outputs": [
    {
     "data": {
      "text/html": [
       "<div>\n",
       "<style scoped>\n",
       "    .dataframe tbody tr th:only-of-type {\n",
       "        vertical-align: middle;\n",
       "    }\n",
       "\n",
       "    .dataframe tbody tr th {\n",
       "        vertical-align: top;\n",
       "    }\n",
       "\n",
       "    .dataframe thead th {\n",
       "        text-align: right;\n",
       "    }\n",
       "</style>\n",
       "<table border=\"1\" class=\"dataframe\">\n",
       "  <thead>\n",
       "    <tr style=\"text-align: right;\">\n",
       "      <th></th>\n",
       "      <th>0</th>\n",
       "    </tr>\n",
       "  </thead>\n",
       "  <tbody>\n",
       "    <tr>\n",
       "      <th>0</th>\n",
       "      <td>ujwal</td>\n",
       "    </tr>\n",
       "    <tr>\n",
       "      <th>1</th>\n",
       "      <td>sahil</td>\n",
       "    </tr>\n",
       "    <tr>\n",
       "      <th>2</th>\n",
       "      <td>akarsh</td>\n",
       "    </tr>\n",
       "  </tbody>\n",
       "</table>\n",
       "</div>"
      ],
      "text/plain": [
       "        0\n",
       "0   ujwal\n",
       "1   sahil\n",
       "2  akarsh"
      ]
     },
     "execution_count": 36,
     "metadata": {},
     "output_type": "execute_result"
    }
   ],
   "source": [
    "pd.DataFrame(a)"
   ]
  },
  {
   "cell_type": "code",
   "execution_count": 37,
   "id": "70348c34-f232-4f57-89db-53a5ae4bcbbf",
   "metadata": {},
   "outputs": [],
   "source": [
    "b = ['sahil', 'ujwal', 'harry']"
   ]
  },
  {
   "cell_type": "code",
   "execution_count": 53,
   "id": "af184936-a6d7-43f0-9281-58898ab77b72",
   "metadata": {},
   "outputs": [],
   "source": [
    "b = pd.DataFrame(b, index =['A', 'B', 'C'], columns= ['Students'])"
   ]
  },
  {
   "cell_type": "code",
   "execution_count": 54,
   "id": "55953823-4f40-4ac2-afc6-e0391fcd66c0",
   "metadata": {},
   "outputs": [
    {
     "data": {
      "text/html": [
       "<div>\n",
       "<style scoped>\n",
       "    .dataframe tbody tr th:only-of-type {\n",
       "        vertical-align: middle;\n",
       "    }\n",
       "\n",
       "    .dataframe tbody tr th {\n",
       "        vertical-align: top;\n",
       "    }\n",
       "\n",
       "    .dataframe thead th {\n",
       "        text-align: right;\n",
       "    }\n",
       "</style>\n",
       "<table border=\"1\" class=\"dataframe\">\n",
       "  <thead>\n",
       "    <tr style=\"text-align: right;\">\n",
       "      <th></th>\n",
       "      <th>Students</th>\n",
       "    </tr>\n",
       "  </thead>\n",
       "  <tbody>\n",
       "    <tr>\n",
       "      <th>A</th>\n",
       "      <td>sahil</td>\n",
       "    </tr>\n",
       "    <tr>\n",
       "      <th>B</th>\n",
       "      <td>ujwal</td>\n",
       "    </tr>\n",
       "    <tr>\n",
       "      <th>C</th>\n",
       "      <td>harry</td>\n",
       "    </tr>\n",
       "  </tbody>\n",
       "</table>\n",
       "</div>"
      ],
      "text/plain": [
       "  Students\n",
       "A    sahil\n",
       "B    ujwal\n",
       "C    harry"
      ]
     },
     "execution_count": 54,
     "metadata": {},
     "output_type": "execute_result"
    }
   ],
   "source": [
    "b"
   ]
  },
  {
   "cell_type": "code",
   "execution_count": 58,
   "id": "f8f981be-504a-4fd6-a26d-ea92ce697efa",
   "metadata": {},
   "outputs": [
    {
     "data": {
      "text/plain": [
       "A    sahil\n",
       "B    ujwal\n",
       "C    harry\n",
       "Name: Students, dtype: object"
      ]
     },
     "execution_count": 58,
     "metadata": {},
     "output_type": "execute_result"
    }
   ],
   "source": [
    "b['Students']"
   ]
  },
  {
   "cell_type": "code",
   "execution_count": 59,
   "id": "3c8959ac-3208-4626-916a-557d61fbda2b",
   "metadata": {},
   "outputs": [
    {
     "data": {
      "text/plain": [
       "pandas.core.frame.DataFrame"
      ]
     },
     "execution_count": 59,
     "metadata": {},
     "output_type": "execute_result"
    }
   ],
   "source": [
    "type(b)"
   ]
  },
  {
   "cell_type": "code",
   "execution_count": 60,
   "id": "e2416834-3e37-4709-8b64-49d72eddd18f",
   "metadata": {},
   "outputs": [
    {
     "data": {
      "text/plain": [
       "pandas.core.series.Series"
      ]
     },
     "execution_count": 60,
     "metadata": {},
     "output_type": "execute_result"
    }
   ],
   "source": [
    "type(b['Students'])"
   ]
  },
  {
   "cell_type": "markdown",
   "id": "48c8e8ee-5c97-4692-9deb-50567fa6d5fb",
   "metadata": {},
   "source": [
    "### multiple series"
   ]
  },
  {
   "cell_type": "code",
   "execution_count": 61,
   "id": "277c7935-569b-44ff-b3d7-2158921b659c",
   "metadata": {},
   "outputs": [],
   "source": [
    "names = ['ujwal', 'abhi', 'sahil']\n",
    "marks = [30, 20, 13]"
   ]
  },
  {
   "cell_type": "code",
   "execution_count": 69,
   "id": "682e5c4e-e420-442a-bca4-6968041f8798",
   "metadata": {},
   "outputs": [
    {
     "data": {
      "text/html": [
       "<div>\n",
       "<style scoped>\n",
       "    .dataframe tbody tr th:only-of-type {\n",
       "        vertical-align: middle;\n",
       "    }\n",
       "\n",
       "    .dataframe tbody tr th {\n",
       "        vertical-align: top;\n",
       "    }\n",
       "\n",
       "    .dataframe thead th {\n",
       "        text-align: right;\n",
       "    }\n",
       "</style>\n",
       "<table border=\"1\" class=\"dataframe\">\n",
       "  <thead>\n",
       "    <tr style=\"text-align: right;\">\n",
       "      <th></th>\n",
       "      <th>names</th>\n",
       "    </tr>\n",
       "  </thead>\n",
       "  <tbody>\n",
       "    <tr>\n",
       "      <th>30</th>\n",
       "      <td>ujwal</td>\n",
       "    </tr>\n",
       "    <tr>\n",
       "      <th>20</th>\n",
       "      <td>abhi</td>\n",
       "    </tr>\n",
       "    <tr>\n",
       "      <th>13</th>\n",
       "      <td>sahil</td>\n",
       "    </tr>\n",
       "  </tbody>\n",
       "</table>\n",
       "</div>"
      ],
      "text/plain": [
       "    names\n",
       "30  ujwal\n",
       "20   abhi\n",
       "13  sahil"
      ]
     },
     "execution_count": 69,
     "metadata": {},
     "output_type": "execute_result"
    }
   ],
   "source": [
    "pd.DataFrame(names, marks, columns = ['names'])"
   ]
  },
  {
   "cell_type": "code",
   "execution_count": 70,
   "id": "c8d01c06-df77-499c-93be-3154380b92c4",
   "metadata": {},
   "outputs": [],
   "source": [
    "# DataFrame(data=None, index: 'Axes | None' = None, columns: 'Axes | None' = None, dtype: 'Dtype | None' = None, copy: 'bool | None' = None) -> 'None'"
   ]
  },
  {
   "cell_type": "code",
   "execution_count": 95,
   "id": "845a2e5d-982a-4efe-9750-87aab1f83ebe",
   "metadata": {},
   "outputs": [],
   "source": [
    "row1 = ['ujwal', 20, 'driver', 99.99]\n",
    "row2 = ['sahil', 22, 'rider', 50]\n",
    "row3 = ['happy', 20, 'writer', 60]"
   ]
  },
  {
   "cell_type": "code",
   "execution_count": 96,
   "id": "c6ac906f-6ba2-4031-9c8c-a985b8f14e00",
   "metadata": {},
   "outputs": [],
   "source": [
    "a = [row1, row2, row3]"
   ]
  },
  {
   "cell_type": "code",
   "execution_count": 97,
   "id": "925032c7-8cf9-4eaa-8816-b01c675e21f2",
   "metadata": {},
   "outputs": [
    {
     "data": {
      "text/plain": [
       "[['ujwal', 20, 'driver', 99.99],\n",
       " ['sahil', 22, 'rider', 50],\n",
       " ['happy', 20, 'writer', 60]]"
      ]
     },
     "execution_count": 97,
     "metadata": {},
     "output_type": "execute_result"
    }
   ],
   "source": [
    "a"
   ]
  },
  {
   "cell_type": "code",
   "execution_count": 98,
   "id": "6d50bf2c-2d5f-4c6e-8dbb-185c92205dfd",
   "metadata": {},
   "outputs": [],
   "source": [
    "b = np.array([row1, row2, row3],)"
   ]
  },
  {
   "cell_type": "code",
   "execution_count": 99,
   "id": "56af91e9-bce7-4d21-a1c6-1364be604cf3",
   "metadata": {},
   "outputs": [
    {
     "data": {
      "text/plain": [
       "array([['ujwal', '20', 'driver', '99.99'],\n",
       "       ['sahil', '22', 'rider', '50'],\n",
       "       ['happy', '20', 'writer', '60']], dtype='<U32')"
      ]
     },
     "execution_count": 99,
     "metadata": {},
     "output_type": "execute_result"
    }
   ],
   "source": [
    "b"
   ]
  },
  {
   "cell_type": "code",
   "execution_count": 100,
   "id": "7a1729f9-9cd1-4980-a973-8f1454a2248e",
   "metadata": {},
   "outputs": [
    {
     "data": {
      "text/html": [
       "<div>\n",
       "<style scoped>\n",
       "    .dataframe tbody tr th:only-of-type {\n",
       "        vertical-align: middle;\n",
       "    }\n",
       "\n",
       "    .dataframe tbody tr th {\n",
       "        vertical-align: top;\n",
       "    }\n",
       "\n",
       "    .dataframe thead th {\n",
       "        text-align: right;\n",
       "    }\n",
       "</style>\n",
       "<table border=\"1\" class=\"dataframe\">\n",
       "  <thead>\n",
       "    <tr style=\"text-align: right;\">\n",
       "      <th></th>\n",
       "      <th>0</th>\n",
       "      <th>1</th>\n",
       "      <th>2</th>\n",
       "      <th>3</th>\n",
       "    </tr>\n",
       "  </thead>\n",
       "  <tbody>\n",
       "    <tr>\n",
       "      <th>0</th>\n",
       "      <td>ujwal</td>\n",
       "      <td>20</td>\n",
       "      <td>driver</td>\n",
       "      <td>99.99</td>\n",
       "    </tr>\n",
       "    <tr>\n",
       "      <th>1</th>\n",
       "      <td>sahil</td>\n",
       "      <td>22</td>\n",
       "      <td>rider</td>\n",
       "      <td>50.00</td>\n",
       "    </tr>\n",
       "    <tr>\n",
       "      <th>2</th>\n",
       "      <td>happy</td>\n",
       "      <td>20</td>\n",
       "      <td>writer</td>\n",
       "      <td>60.00</td>\n",
       "    </tr>\n",
       "  </tbody>\n",
       "</table>\n",
       "</div>"
      ],
      "text/plain": [
       "       0   1       2      3\n",
       "0  ujwal  20  driver  99.99\n",
       "1  sahil  22   rider  50.00\n",
       "2  happy  20  writer  60.00"
      ]
     },
     "execution_count": 100,
     "metadata": {},
     "output_type": "execute_result"
    }
   ],
   "source": [
    "pd.DataFrame(a)"
   ]
  },
  {
   "cell_type": "code",
   "execution_count": 101,
   "id": "50bfa194-bfe8-49ea-a554-edf1b9a5fb53",
   "metadata": {},
   "outputs": [
    {
     "data": {
      "text/html": [
       "<div>\n",
       "<style scoped>\n",
       "    .dataframe tbody tr th:only-of-type {\n",
       "        vertical-align: middle;\n",
       "    }\n",
       "\n",
       "    .dataframe tbody tr th {\n",
       "        vertical-align: top;\n",
       "    }\n",
       "\n",
       "    .dataframe thead th {\n",
       "        text-align: right;\n",
       "    }\n",
       "</style>\n",
       "<table border=\"1\" class=\"dataframe\">\n",
       "  <thead>\n",
       "    <tr style=\"text-align: right;\">\n",
       "      <th></th>\n",
       "      <th>0</th>\n",
       "      <th>1</th>\n",
       "      <th>2</th>\n",
       "      <th>3</th>\n",
       "    </tr>\n",
       "  </thead>\n",
       "  <tbody>\n",
       "    <tr>\n",
       "      <th>0</th>\n",
       "      <td>ujwal</td>\n",
       "      <td>20</td>\n",
       "      <td>driver</td>\n",
       "      <td>99.99</td>\n",
       "    </tr>\n",
       "    <tr>\n",
       "      <th>1</th>\n",
       "      <td>sahil</td>\n",
       "      <td>22</td>\n",
       "      <td>rider</td>\n",
       "      <td>50</td>\n",
       "    </tr>\n",
       "    <tr>\n",
       "      <th>2</th>\n",
       "      <td>happy</td>\n",
       "      <td>20</td>\n",
       "      <td>writer</td>\n",
       "      <td>60</td>\n",
       "    </tr>\n",
       "  </tbody>\n",
       "</table>\n",
       "</div>"
      ],
      "text/plain": [
       "       0   1       2      3\n",
       "0  ujwal  20  driver  99.99\n",
       "1  sahil  22   rider     50\n",
       "2  happy  20  writer     60"
      ]
     },
     "execution_count": 101,
     "metadata": {},
     "output_type": "execute_result"
    }
   ],
   "source": [
    "pd.DataFrame(b)"
   ]
  },
  {
   "cell_type": "code",
   "execution_count": 106,
   "id": "765e4503-fe41-453d-93fa-bc3b7cc22b76",
   "metadata": {},
   "outputs": [],
   "source": [
    "indexes = \"A B C\".split()"
   ]
  },
  {
   "cell_type": "code",
   "execution_count": 107,
   "id": "8b75dfca-065d-4765-ba3f-2c2a3fd0feb2",
   "metadata": {},
   "outputs": [],
   "source": [
    "columns = \"name age work weight\".split()"
   ]
  },
  {
   "cell_type": "code",
   "execution_count": 108,
   "id": "7c8b8638-9ad7-4f66-a5eb-d3514607a761",
   "metadata": {},
   "outputs": [],
   "source": [
    "df = pd.DataFrame(a, index= indexes, columns= columns)"
   ]
  },
  {
   "cell_type": "code",
   "execution_count": 109,
   "id": "1f96eeed-69ce-4561-a7b8-7f1b03888b1a",
   "metadata": {},
   "outputs": [
    {
     "data": {
      "text/html": [
       "<div>\n",
       "<style scoped>\n",
       "    .dataframe tbody tr th:only-of-type {\n",
       "        vertical-align: middle;\n",
       "    }\n",
       "\n",
       "    .dataframe tbody tr th {\n",
       "        vertical-align: top;\n",
       "    }\n",
       "\n",
       "    .dataframe thead th {\n",
       "        text-align: right;\n",
       "    }\n",
       "</style>\n",
       "<table border=\"1\" class=\"dataframe\">\n",
       "  <thead>\n",
       "    <tr style=\"text-align: right;\">\n",
       "      <th></th>\n",
       "      <th>name</th>\n",
       "      <th>age</th>\n",
       "      <th>work</th>\n",
       "      <th>weight</th>\n",
       "    </tr>\n",
       "  </thead>\n",
       "  <tbody>\n",
       "    <tr>\n",
       "      <th>A</th>\n",
       "      <td>ujwal</td>\n",
       "      <td>20</td>\n",
       "      <td>driver</td>\n",
       "      <td>99.99</td>\n",
       "    </tr>\n",
       "    <tr>\n",
       "      <th>B</th>\n",
       "      <td>sahil</td>\n",
       "      <td>22</td>\n",
       "      <td>rider</td>\n",
       "      <td>50.00</td>\n",
       "    </tr>\n",
       "    <tr>\n",
       "      <th>C</th>\n",
       "      <td>happy</td>\n",
       "      <td>20</td>\n",
       "      <td>writer</td>\n",
       "      <td>60.00</td>\n",
       "    </tr>\n",
       "  </tbody>\n",
       "</table>\n",
       "</div>"
      ],
      "text/plain": [
       "    name  age    work  weight\n",
       "A  ujwal   20  driver   99.99\n",
       "B  sahil   22   rider   50.00\n",
       "C  happy   20  writer   60.00"
      ]
     },
     "execution_count": 109,
     "metadata": {},
     "output_type": "execute_result"
    }
   ],
   "source": [
    "df"
   ]
  },
  {
   "cell_type": "markdown",
   "id": "613e3ea1-49a6-4d49-9cd6-07893aee1801",
   "metadata": {},
   "source": [
    "## putting data through dictionary"
   ]
  },
  {
   "cell_type": "code",
   "execution_count": 110,
   "id": "6437c447-4164-459b-b4dc-81f0fbba4d9b",
   "metadata": {},
   "outputs": [],
   "source": [
    "d = {\n",
    "    1: [\"shubham\" , 20, 'netmax', 63.6, \"np\"],\n",
    "    2: [\"abhi\" , 40, 'dev', 65.8, None],\n",
    "    3: [\"akash\" , 50, 'data', 73.1, None]\n",
    "    \n",
    "}"
   ]
  },
  {
   "cell_type": "code",
   "execution_count": 111,
   "id": "39c15225-8be8-4a58-b76b-691b0469347b",
   "metadata": {},
   "outputs": [
    {
     "data": {
      "text/plain": [
       "{1: ['shubham', 20, 'netmax', 63.6, 'np'],\n",
       " 2: ['abhi', 40, 'dev', 65.8, None],\n",
       " 3: ['akash', 50, 'data', 73.1, None]}"
      ]
     },
     "execution_count": 111,
     "metadata": {},
     "output_type": "execute_result"
    }
   ],
   "source": [
    "d"
   ]
  },
  {
   "cell_type": "code",
   "execution_count": 112,
   "id": "444b07b7-9aa9-4639-a364-49eab837b04c",
   "metadata": {},
   "outputs": [
    {
     "data": {
      "text/html": [
       "<div>\n",
       "<style scoped>\n",
       "    .dataframe tbody tr th:only-of-type {\n",
       "        vertical-align: middle;\n",
       "    }\n",
       "\n",
       "    .dataframe tbody tr th {\n",
       "        vertical-align: top;\n",
       "    }\n",
       "\n",
       "    .dataframe thead th {\n",
       "        text-align: right;\n",
       "    }\n",
       "</style>\n",
       "<table border=\"1\" class=\"dataframe\">\n",
       "  <thead>\n",
       "    <tr style=\"text-align: right;\">\n",
       "      <th></th>\n",
       "      <th>1</th>\n",
       "      <th>2</th>\n",
       "      <th>3</th>\n",
       "    </tr>\n",
       "  </thead>\n",
       "  <tbody>\n",
       "    <tr>\n",
       "      <th>0</th>\n",
       "      <td>shubham</td>\n",
       "      <td>abhi</td>\n",
       "      <td>akash</td>\n",
       "    </tr>\n",
       "    <tr>\n",
       "      <th>1</th>\n",
       "      <td>20</td>\n",
       "      <td>40</td>\n",
       "      <td>50</td>\n",
       "    </tr>\n",
       "    <tr>\n",
       "      <th>2</th>\n",
       "      <td>netmax</td>\n",
       "      <td>dev</td>\n",
       "      <td>data</td>\n",
       "    </tr>\n",
       "    <tr>\n",
       "      <th>3</th>\n",
       "      <td>63.6</td>\n",
       "      <td>65.8</td>\n",
       "      <td>73.1</td>\n",
       "    </tr>\n",
       "    <tr>\n",
       "      <th>4</th>\n",
       "      <td>np</td>\n",
       "      <td>None</td>\n",
       "      <td>None</td>\n",
       "    </tr>\n",
       "  </tbody>\n",
       "</table>\n",
       "</div>"
      ],
      "text/plain": [
       "         1     2      3\n",
       "0  shubham  abhi  akash\n",
       "1       20    40     50\n",
       "2   netmax   dev   data\n",
       "3     63.6  65.8   73.1\n",
       "4       np  None   None"
      ]
     },
     "execution_count": 112,
     "metadata": {},
     "output_type": "execute_result"
    }
   ],
   "source": [
    "pd.DataFrame(d)"
   ]
  },
  {
   "cell_type": "code",
   "execution_count": 113,
   "id": "80511432-91f3-462f-b896-a59230c3322f",
   "metadata": {},
   "outputs": [],
   "source": [
    "d = {\n",
    "    \"name\": [\"shubham\" , \"abhi\", \"akash\"],\n",
    "    \"age\": [20, 25, 30],\n",
    "    \"weight\": [63.3, 52.0, 41.7]\n",
    "    \n",
    "}"
   ]
  },
  {
   "cell_type": "code",
   "execution_count": 114,
   "id": "4a797da2-a777-48bd-9f40-b2f460a13db8",
   "metadata": {},
   "outputs": [
    {
     "data": {
      "text/plain": [
       "{'name': ['shubham', 'abhi', 'akash'],\n",
       " 'age': [20, 25, 30],\n",
       " 'weight': [63.3, 52.0, 41.7]}"
      ]
     },
     "execution_count": 114,
     "metadata": {},
     "output_type": "execute_result"
    }
   ],
   "source": [
    "d"
   ]
  },
  {
   "cell_type": "code",
   "execution_count": 115,
   "id": "747232e7-5b8f-4087-930a-9c38c35e3b2a",
   "metadata": {},
   "outputs": [],
   "source": [
    "df = pd.DataFrame(d, index=range(100, 103))"
   ]
  },
  {
   "cell_type": "code",
   "execution_count": 116,
   "id": "f0f97a68-bc92-4de7-aaa4-e53d5ea41381",
   "metadata": {},
   "outputs": [
    {
     "data": {
      "text/html": [
       "<div>\n",
       "<style scoped>\n",
       "    .dataframe tbody tr th:only-of-type {\n",
       "        vertical-align: middle;\n",
       "    }\n",
       "\n",
       "    .dataframe tbody tr th {\n",
       "        vertical-align: top;\n",
       "    }\n",
       "\n",
       "    .dataframe thead th {\n",
       "        text-align: right;\n",
       "    }\n",
       "</style>\n",
       "<table border=\"1\" class=\"dataframe\">\n",
       "  <thead>\n",
       "    <tr style=\"text-align: right;\">\n",
       "      <th></th>\n",
       "      <th>name</th>\n",
       "      <th>age</th>\n",
       "      <th>weight</th>\n",
       "    </tr>\n",
       "  </thead>\n",
       "  <tbody>\n",
       "    <tr>\n",
       "      <th>100</th>\n",
       "      <td>shubham</td>\n",
       "      <td>20</td>\n",
       "      <td>63.3</td>\n",
       "    </tr>\n",
       "    <tr>\n",
       "      <th>101</th>\n",
       "      <td>abhi</td>\n",
       "      <td>25</td>\n",
       "      <td>52.0</td>\n",
       "    </tr>\n",
       "    <tr>\n",
       "      <th>102</th>\n",
       "      <td>akash</td>\n",
       "      <td>30</td>\n",
       "      <td>41.7</td>\n",
       "    </tr>\n",
       "  </tbody>\n",
       "</table>\n",
       "</div>"
      ],
      "text/plain": [
       "        name  age  weight\n",
       "100  shubham   20    63.3\n",
       "101     abhi   25    52.0\n",
       "102    akash   30    41.7"
      ]
     },
     "execution_count": 116,
     "metadata": {},
     "output_type": "execute_result"
    }
   ],
   "source": [
    "df"
   ]
  },
  {
   "cell_type": "code",
   "execution_count": null,
   "id": "621f084a-860e-4013-8968-e6e150962e58",
   "metadata": {},
   "outputs": [],
   "source": []
  }
 ],
 "metadata": {
  "kernelspec": {
   "display_name": "Python 3 (ipykernel)",
   "language": "python",
   "name": "python3"
  },
  "language_info": {
   "codemirror_mode": {
    "name": "ipython",
    "version": 3
   },
   "file_extension": ".py",
   "mimetype": "text/x-python",
   "name": "python",
   "nbconvert_exporter": "python",
   "pygments_lexer": "ipython3",
   "version": "3.13.5"
  }
 },
 "nbformat": 4,
 "nbformat_minor": 5
}
